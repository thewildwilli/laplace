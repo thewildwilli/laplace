{
 "metadata": {
  "language_info": {
   "codemirror_mode": {
    "name": "ipython",
    "version": 3
   },
   "file_extension": ".py",
   "mimetype": "text/x-python",
   "name": "python",
   "nbconvert_exporter": "python",
   "pygments_lexer": "ipython3",
   "version": "2.7.14-final"
  },
  "orig_nbformat": 2,
  "kernelspec": {
   "name": "python2",
   "display_name": "Python 2",
   "language": "python"
  }
 },
 "nbformat": 4,
 "nbformat_minor": 2,
 "cells": [
  {
   "cell_type": "code",
   "execution_count": 57,
   "metadata": {},
   "outputs": [],
   "source": [
    "class function:\n",
    "    def __init__(self,function_as_real_map):\n",
    "        self.real_map = function_as_real_map\n",
    "    def function_as_discrete_map(self, start, end, points_num):\n",
    "        return [self.real_map(start+i*(end-start)/(points_num-1)) for i in range(points_num)]\n",
    "    def function_as_discrete_map_extra_points(self, start, end, points_num):\n",
    "        return self.function_as_discrete_map(start, end+5, points_num+5)\n",
    "\n",
    "def laplace_integration(list):\n",
    "    k_7_0 = 41393.0/60480.0\n",
    "    k_7_1 = -23719.0/60480.0\n",
    "    k_7_2 = 22742.0/60480.0\n",
    "    k_7_3 = -14762.0/60480.0\n",
    "    k_7_4 = 5449.0/60480.0\n",
    "    k_7_5 = -863.0/60480.0\n",
    "\n",
    "    k_7 = [k_7_0, k_7_1, k_7_2, k_7_3, k_7_4, k_7_5]\n",
    "    \n",
    "    b_coor = len(list) - 6\n",
    "    print(b_coor, list[b_coor])\n",
    "\n",
    "    result = sum([list[i] for i in range(0,b_coor)])\n",
    "    result += sum([k_7[i] * list[b_coor + i] for i in range(0,6)])\n",
    "    result -= sum([k_7[i] * list[i] for i in range(0,6)])\n",
    "    return result\n"
   ]
  },
  {
   "cell_type": "code",
   "execution_count": 58,
   "metadata": {},
   "outputs": [],
   "source": [
    "x_squared = function(lambda x: x*x)"
   ]
  },
  {
   "cell_type": "code",
   "execution_count": 59,
   "metadata": {},
   "outputs": [
    {
     "output_type": "execute_result",
     "data": {
      "text/plain": [
       "[0.0,\n",
       " 1.0,\n",
       " 4.0,\n",
       " 9.0,\n",
       " 16.0,\n",
       " 25.0,\n",
       " 36.0,\n",
       " 49.0,\n",
       " 64.0,\n",
       " 81.0,\n",
       " 100.0,\n",
       " 121.0,\n",
       " 144.0,\n",
       " 169.0,\n",
       " 196.0,\n",
       " 225.0]"
      ]
     },
     "metadata": {},
     "execution_count": 59
    }
   ],
   "source": [
    "grid_values = x_squared.function_as_discrete_map_extra_points(0.0,10.0,11)\n",
    "grid_values"
   ]
  },
  {
   "cell_type": "code",
   "execution_count": 61,
   "metadata": {},
   "outputs": [
    {
     "output_type": "stream",
     "name": "stdout",
     "text": [
      "(10, 100.0)\n"
     ]
    },
    {
     "output_type": "execute_result",
     "data": {
      "text/plain": [
       "333.33333333333337"
      ]
     },
     "metadata": {},
     "execution_count": 61
    }
   ],
   "source": [
    "laplace_integration(grid_values)"
   ]
  },
  {
   "cell_type": "code",
   "execution_count": 62,
   "metadata": {},
   "outputs": [
    {
     "output_type": "execute_result",
     "data": {
      "text/plain": [
       "(333.33333333333326, 3.700743415417188e-12)"
      ]
     },
     "metadata": {},
     "execution_count": 62
    }
   ],
   "source": [
    "import scipy.integrate as integrate\n",
    "integrate.quad(x_squared.real_map, 0, 10)"
   ]
  },
  {
   "cell_type": "code",
   "execution_count": 18,
   "metadata": {},
   "outputs": [
    {
     "output_type": "execute_result",
     "data": {
      "text/plain": [
       "(333.33333333333326, 3.700743415417188e-12)"
      ]
     },
     "metadata": {},
     "execution_count": 18
    }
   ],
   "source": []
  },
  {
   "cell_type": "code",
   "execution_count": 19,
   "metadata": {},
   "outputs": [
    {
     "output_type": "execute_result",
     "data": {
      "text/plain": [
       "333.33333333333695"
      ]
     },
     "metadata": {},
     "execution_count": 19
    }
   ],
   "source": []
  },
  {
   "cell_type": "code",
   "execution_count": null,
   "metadata": {},
   "outputs": [],
   "source": []
  }
 ]
}