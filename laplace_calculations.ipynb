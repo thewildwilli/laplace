{
 "metadata": {
  "language_info": {
   "codemirror_mode": {
    "name": "ipython",
    "version": 3
   },
   "file_extension": ".py",
   "mimetype": "text/x-python",
   "name": "python",
   "nbconvert_exporter": "python",
   "pygments_lexer": "ipython3",
   "version": "3.6.3-final"
  },
  "orig_nbformat": 2,
  "kernelspec": {
   "name": "python36364bitpython3condac51aacc59df947699a98ee01d7b768f0",
   "display_name": "Python 3.6.3 64-bit ('python3': conda)",
   "language": "python"
  }
 },
 "nbformat": 4,
 "nbformat_minor": 2,
 "cells": [
  {
   "cell_type": "code",
   "execution_count": null,
   "metadata": {},
   "outputs": [],
   "source": [
    "import numpy as np"
   ]
  },
  {
   "cell_type": "code",
   "execution_count": 2,
   "metadata": {},
   "outputs": [],
   "source": [
    "class function:\n",
    "    def __init__(self,function_as_real_map):\n",
    "        self.real_map = function_as_real_map\n",
    "    def function_as_discrete_map(self, start, end, points_num):\n",
    "        return [self.real_map(start+i*(end-start)/(points_num-1)) for i in range(points_num)]\n",
    "    def function_as_discrete_map_extra_points(self, start, end, points_num):\n",
    "        return self.function_as_discrete_map(start, end+5, points_num+5)\n",
    "\n",
    "def laplace_integration(list):\n",
    "    k_7_0 = 41393.0/60480.0\n",
    "    k_7_1 = -23719.0/60480.0\n",
    "    k_7_2 = 22742.0/60480.0\n",
    "    k_7_3 = -14762.0/60480.0\n",
    "    k_7_4 = 5449.0/60480.0\n",
    "    k_7_5 = -863.0/60480.0\n",
    "\n",
    "    k_7 = [k_7_0, k_7_1, k_7_2, k_7_3, k_7_4, k_7_5]\n",
    "    \n",
    "    b_coor = len(list) - 6\n",
    "    result = sum([list[i] for i in range(0,b_coor)])\n",
    "    result += sum([k_7[i] * list[b_coor + i] for i in range(0,6)])\n",
    "    result -= sum([k_7[i] * list[i] for i in range(0,6)])\n",
    "    \n",
    "    return result\n"
   ]
  },
  {
   "cell_type": "code",
   "execution_count": 3,
   "metadata": {},
   "outputs": [],
   "source": [
    "x_squared = function(lambda x: x*x)"
   ]
  },
  {
   "cell_type": "code",
   "execution_count": 4,
   "metadata": {},
   "outputs": [
    {
     "output_type": "execute_result",
     "data": {
      "text/plain": [
       "[0.0,\n",
       " 1.0,\n",
       " 4.0,\n",
       " 9.0,\n",
       " 16.0,\n",
       " 25.0,\n",
       " 36.0,\n",
       " 49.0,\n",
       " 64.0,\n",
       " 81.0,\n",
       " 100.0,\n",
       " 121.0,\n",
       " 144.0,\n",
       " 169.0,\n",
       " 196.0,\n",
       " 225.0]"
      ]
     },
     "metadata": {},
     "execution_count": 4
    }
   ],
   "source": [
    "grid_values = x_squared.function_as_discrete_map_extra_points(0.0,10.0,11)\n",
    "grid_values"
   ]
  },
  {
   "cell_type": "code",
   "execution_count": 5,
   "metadata": {},
   "outputs": [
    {
     "output_type": "execute_result",
     "data": {
      "text/plain": [
       "333.33333333333337"
      ]
     },
     "metadata": {},
     "execution_count": 5
    }
   ],
   "source": [
    "laplace_integration(grid_values)"
   ]
  },
  {
   "cell_type": "code",
   "execution_count": 6,
   "metadata": {},
   "outputs": [
    {
     "output_type": "execute_result",
     "data": {
      "text/plain": [
       "(333.33333333333326, 3.700743415417188e-12)"
      ]
     },
     "metadata": {},
     "execution_count": 6
    }
   ],
   "source": [
    "import scipy.integrate as integrate\n",
    "integrate.quad(x_squared.real_map, 0, 10)"
   ]
  },
  {
   "cell_type": "code",
   "execution_count": 7,
   "metadata": {},
   "outputs": [],
   "source": [
    "import scipy.integrate as integrate\n",
    "\n",
    "def compare_integration_methods(integrand_as_lambda,start,end,num_point_evals):\n",
    "    f = function(integrand_as_lambda)\n",
    "    grid_values = f.function_as_discrete_map_extra_points(start,end,num_point_evals)\n",
    "    laplace_int = laplace_integration(grid_values)\n",
    "    theoretical_int, theoretical_dev = integrate.quad(f.real_map, start, end)\n",
    "    abs_dev = np.abs(theoretical_int-laplace_int)\n",
    "    rel_dev = np.abs(theoretical_int-laplace_int)/theoretical_int\n",
    "    print(\"Percentage deviation:\", rel_dev)\n",
    "    print(\"Absolute deviation:\", abs_dev)\n",
    "    print(\"Uncertainty in theoretical value:\", theoretical_dev)\n",
    "\n",
    "def compare_integration_methods_verbose(integrand_as_lambda,start,end,num_point_evals):\n",
    "    f = function(integrand_as_lambda)\n",
    "    grid_values = f.function_as_discrete_map_extra_points(start,end,num_point_evals)\n",
    "    laplace_int = laplace_integration(grid_values)\n",
    "    theoretical_int, theoretical_dev = integrate.quad(f.real_map, start, end)\n",
    "    abs_dev = np.abs(theoretical_int-laplace_int)\n",
    "    rel_dev = np.abs(theoretical_int-laplace_int)/theoretical_int\n",
    "    print(\"Theoretical value:\", theoretical_int)\n",
    "    print(f\"Interval interval from {start} to {end}\")\n",
    "    print(\"Percentage deviation:\", rel_dev)\n",
    "    print(\"Absolute deviation:\", abs_dev)\n",
    "    print(\"Uncertainty in theoretical value:\", theoretical_dev)\n"
   ]
  },
  {
   "cell_type": "code",
   "execution_count": 8,
   "metadata": {},
   "outputs": [
    {
     "output_type": "error",
     "ename": "NameError",
     "evalue": "name 'np' is not defined",
     "traceback": [
      "\u001b[0;31m---------------------------------------------------------------------------\u001b[0m",
      "\u001b[0;31mNameError\u001b[0m                                 Traceback (most recent call last)",
      "\u001b[0;32m<ipython-input-8-24892c97e2cf>\u001b[0m in \u001b[0;36m<module>\u001b[0;34m()\u001b[0m\n\u001b[0;32m----> 1\u001b[0;31m \u001b[0mcompare_integration_methods\u001b[0m\u001b[0;34m(\u001b[0m\u001b[0;32mlambda\u001b[0m \u001b[0mx\u001b[0m\u001b[0;34m:\u001b[0m \u001b[0mx\u001b[0m\u001b[0;34m*\u001b[0m\u001b[0mx\u001b[0m\u001b[0;34m,\u001b[0m\u001b[0;36m0.0\u001b[0m\u001b[0;34m,\u001b[0m\u001b[0;36m10.0\u001b[0m\u001b[0;34m,\u001b[0m\u001b[0;36m11\u001b[0m\u001b[0;34m)\u001b[0m\u001b[0;34m\u001b[0m\u001b[0m\n\u001b[0m",
      "\u001b[0;32m<ipython-input-7-618a94ea08dc>\u001b[0m in \u001b[0;36mcompare_integration_methods\u001b[0;34m(integrand_as_lambda, start, end, num_point_evals)\u001b[0m\n\u001b[1;32m      6\u001b[0m     \u001b[0mlaplace_int\u001b[0m \u001b[0;34m=\u001b[0m \u001b[0mlaplace_integration\u001b[0m\u001b[0;34m(\u001b[0m\u001b[0mgrid_values\u001b[0m\u001b[0;34m)\u001b[0m\u001b[0;34m\u001b[0m\u001b[0m\n\u001b[1;32m      7\u001b[0m     \u001b[0mtheoretical_int\u001b[0m\u001b[0;34m,\u001b[0m \u001b[0mtheoretical_dev\u001b[0m \u001b[0;34m=\u001b[0m \u001b[0mintegrate\u001b[0m\u001b[0;34m.\u001b[0m\u001b[0mquad\u001b[0m\u001b[0;34m(\u001b[0m\u001b[0mf\u001b[0m\u001b[0;34m.\u001b[0m\u001b[0mreal_map\u001b[0m\u001b[0;34m,\u001b[0m \u001b[0mstart\u001b[0m\u001b[0;34m,\u001b[0m \u001b[0mend\u001b[0m\u001b[0;34m)\u001b[0m\u001b[0;34m\u001b[0m\u001b[0m\n\u001b[0;32m----> 8\u001b[0;31m     \u001b[0mabs_dev\u001b[0m \u001b[0;34m=\u001b[0m \u001b[0mnp\u001b[0m\u001b[0;34m.\u001b[0m\u001b[0mabs\u001b[0m\u001b[0;34m(\u001b[0m\u001b[0mtheoretical_int\u001b[0m\u001b[0;34m-\u001b[0m\u001b[0mlaplace_int\u001b[0m\u001b[0;34m)\u001b[0m\u001b[0;34m\u001b[0m\u001b[0m\n\u001b[0m\u001b[1;32m      9\u001b[0m     \u001b[0mrel_dev\u001b[0m \u001b[0;34m=\u001b[0m \u001b[0mnp\u001b[0m\u001b[0;34m.\u001b[0m\u001b[0mabs\u001b[0m\u001b[0;34m(\u001b[0m\u001b[0mtheoretical_int\u001b[0m\u001b[0;34m-\u001b[0m\u001b[0mlaplace_int\u001b[0m\u001b[0;34m)\u001b[0m\u001b[0;34m/\u001b[0m\u001b[0mtheoretical_int\u001b[0m\u001b[0;34m\u001b[0m\u001b[0m\n\u001b[1;32m     10\u001b[0m     \u001b[0mprint\u001b[0m\u001b[0;34m(\u001b[0m\u001b[0;34m\"Percentage deviation:\"\u001b[0m\u001b[0;34m,\u001b[0m \u001b[0mrel_dev\u001b[0m\u001b[0;34m)\u001b[0m\u001b[0;34m\u001b[0m\u001b[0m\n",
      "\u001b[0;31mNameError\u001b[0m: name 'np' is not defined"
     ]
    }
   ],
   "source": [
    "compare_integration_methods(lambda x: x*x,0.0,10.0,11)"
   ]
  },
  {
   "cell_type": "code",
   "execution_count": 112,
   "metadata": {},
   "outputs": [
    {
     "output_type": "execute_result",
     "data": {
      "text/plain": [
       "[1.0,\n",
       " 0.8136599610328119,\n",
       " 0.6472141385854081,\n",
       " 0.5120212835164072,\n",
       " 0.3993337026512806,\n",
       " 0.3000350602212889,\n",
       " 0.2044383873374625,\n",
       " 0.10785068548418214,\n",
       " 0.029115599938187808,\n",
       " 0.001360350553895703,\n",
       " 6.437380240083325e-07,\n",
       " 1.8277053679093564e-15]"
      ]
     },
     "metadata": {},
     "execution_count": 112
    }
   ],
   "source": [
    "# Example with annuity of a zero year old - intentisty constant values from Norberg eq. (3.25)\n",
    "interest_rate = 0.02 # arbitrary choice \n",
    "alpha = 0.0005\n",
    "beta = 7.5858e-05\n",
    "gamma = np.math.log(1.09144)\n",
    "p_survival_x_year_old = lambda t,x: np.math.exp(-alpha*t-beta*(np.math.exp(gamma*(t+x))-1)/gamma)\n",
    "p_survival_zero_year_old = lambda t: p_survival_x_year_old(t,0)\n",
    "annuity_x_year_old_integrand = lambda t,x: np.math.exp(-1*interest_rate*t)*p_survival_x_year_old(t,x)\n",
    "annuity_zero_year_old_integrand = lambda t: np.math.exp(-1*interest_rate*t)*p_survival_zero_year_old(t)\n",
    "\n",
    "function(annuity_zero_year_old_integrand).function_as_discrete_map(0,120,12)"
   ]
  },
  {
   "cell_type": "code",
   "execution_count": 113,
   "metadata": {},
   "outputs": [
    {
     "output_type": "stream",
     "name": "stdout",
     "text": [
      "('Percentage deviation:', 3.7837401935327718e-15)\n('Absolute deviation:', 1.4210854715202004e-13)\n('Uncertainty in theoretical value:', 3.395439631872089e-10)\n"
     ]
    }
   ],
   "source": [
    "compare_integration_methods(annuity_zero_year_old_integrand,0.0,120.0,121)"
   ]
  },
  {
   "cell_type": "code",
   "execution_count": 114,
   "metadata": {},
   "outputs": [
    {
     "output_type": "stream",
     "name": "stdout",
     "text": [
      "x cubed\n('Percentage deviation:', 1.8189894035458561e-16)\n('Absolute deviation:', 4.5474735088646412e-13)\n('Uncertainty in theoretical value:', 2.775557561562892e-11)\nx to the power 5\n('Percentage deviation:', 0.0)\n('Absolute deviation:', 0.0)\n('Uncertainty in theoretical value:', 1.8503717077085944e-09)\nx to the power 6\n('Percentage deviation:', 1.6298145055770873e-16)\n('Absolute deviation:', 2.3283064365386963e-10)\n('Uncertainty in theoretical value:', 1.5860328923216523e-08)\nx to the power 7\n('Percentage deviation:', 4.5833333333432667e-05)\n('Absolute deviation:', 572.91666666790843)\n('Uncertainty in theoretical value:', 1.387778780781446e-07)\nx to the power 8\n('Percentage deviation:', 0.00029604700000020862)\n('Absolute deviation:', 32894.111111134291)\n('Uncertainty in theoretical value:', 1.2335811384723963e-06)\nexponential\n('Percentage deviation:', 0.12235440626487164)\n('Absolute deviation:', 2694.9127900308158)\n('Uncertainty in theoretical value:', 6.239389118119916e-10)\nexponential\n('Percentage deviation:', 0.0061622947630995519)\n('Absolute deviation:', 0.011332900852593308)\n('Uncertainty in theoretical value:', 9.92116330910929e-12)\n"
     ]
    }
   ],
   "source": [
    "# Examples with basic functions\n",
    "print(\"x cubed\")\n",
    "compare_integration_methods(lambda x: x**3,0.0,10.0,11)\n",
    "print(\"x to the power 5\")\n",
    "compare_integration_methods(lambda x: x**5,0.0,10.0,11)\n",
    "print(\"x to the power 6\")\n",
    "compare_integration_methods(lambda x: x**6,0.0,10.0,11)\n",
    "print(\"x to the power 7\")\n",
    "compare_integration_methods(lambda x: x**7,0.0,10.0,11)\n",
    "print(\"x to the power 8\")\n",
    "compare_integration_methods(lambda x: x**8,0.0,10.0,11)\n",
    "print(\"exponential\")\n",
    "compare_integration_methods(lambda x: np.exp(x),0.0,10.0,11)\n",
    "print(\"exponential\")\n",
    "compare_integration_methods(lambda x: np.sin(x),0.0,10.0,11)"
   ]
  },
  {
   "cell_type": "code",
   "execution_count": 115,
   "metadata": {},
   "outputs": [
    {
     "output_type": "stream",
     "name": "stdout",
     "text": [
      "('Percentage deviation:', 0.1259982460593502)\n('Absolute deviation:', 2.7557324032812163e-16)\n('Uncertainty in theoretical value:', 4.1269095255633926e-15)\n"
     ]
    }
   ],
   "source": [
    "# Examples with different x\n",
    "l = lambda t: annuity_x_year_old_integrand(t,60)\n",
    "compare_integration_methods(l,60.0,120.0,61)"
   ]
  },
  {
   "cell_type": "code",
   "execution_count": 1,
   "metadata": {},
   "outputs": [
    {
     "output_type": "error",
     "ename": "NameError",
     "evalue": "name 'annuity_x_year_old_integrand' is not defined",
     "traceback": [
      "\u001b[0;31m---------------------------------------------------------------------------\u001b[0m",
      "\u001b[0;31mNameError\u001b[0m                                 Traceback (most recent call last)",
      "\u001b[0;32m<ipython-input-1-56777c9b2cd5>\u001b[0m in \u001b[0;36m<module>\u001b[0;34m()\u001b[0m\n\u001b[0;32m----> 1\u001b[0;31m \u001b[0mannuity_x_year_old_integrand\u001b[0m\u001b[0;34m(\u001b[0m\u001b[0;36m0\u001b[0m\u001b[0;34m,\u001b[0m\u001b[0;36m120\u001b[0m\u001b[0;34m)\u001b[0m\u001b[0;34m\u001b[0m\u001b[0m\n\u001b[0m",
      "\u001b[0;31mNameError\u001b[0m: name 'annuity_x_year_old_integrand' is not defined"
     ]
    }
   ],
   "source": [
    "annuity_x_year_old_integrand(0,120)"
   ]
  },
  {
   "cell_type": "code",
   "execution_count": null,
   "metadata": {},
   "outputs": [],
   "source": []
  }
 ]
}